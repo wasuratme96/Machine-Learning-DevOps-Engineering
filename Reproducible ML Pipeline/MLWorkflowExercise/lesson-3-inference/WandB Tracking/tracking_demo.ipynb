{
 "cells": [
  {
   "cell_type": "code",
   "execution_count": 1,
   "id": "little-journey",
   "metadata": {},
   "outputs": [],
   "source": [
    "import wandb\n",
    "import matplotlib.pyplot as plt\n",
    "import numpy as np"
   ]
  },
  {
   "cell_type": "code",
   "execution_count": 2,
   "id": "stainless-geometry",
   "metadata": {},
   "outputs": [
    {
     "name": "stderr",
     "output_type": "stream",
     "text": [
      "Failed to detect the name of this notebook, you can set it manually with the WANDB_NOTEBOOK_NAME environment variable to enable code saving.\n",
      "\u001b[34m\u001b[1mwandb\u001b[0m: Currently logged in as: \u001b[33mwasuratfirst\u001b[0m (use `wandb login --relogin` to force relogin)\n"
     ]
    },
    {
     "data": {
      "text/html": [
       "\n",
       "                    Syncing run <strong><a href=\"https://wandb.ai/wasuratfirst/tracking_demo/runs/3e3ockze\" target=\"_blank\">deft-dawn-2</a></strong> to <a href=\"https://wandb.ai/wasuratfirst/tracking_demo\" target=\"_blank\">Weights & Biases</a> (<a href=\"https://docs.wandb.com/integrations/jupyter.html\" target=\"_blank\">docs</a>).<br/>\n",
       "\n",
       "                "
      ],
      "text/plain": [
       "<IPython.core.display.HTML object>"
      ]
     },
     "metadata": {},
     "output_type": "display_data"
    }
   ],
   "source": [
    "run = wandb.init(project=\"tracking_demo\")"
   ]
  },
  {
   "cell_type": "code",
   "execution_count": 3,
   "id": "divided-fellow",
   "metadata": {},
   "outputs": [],
   "source": [
    "# Storing hyper parameters\n",
    "run.config.update({\n",
    "    \"batch_size\": 128,\n",
    "    \"weight_decay\": 0.01,\n",
    "    \"augmentations\": {\n",
    "        \"rot_angle\": 45,\n",
    "        \"crop_size\": 224\n",
    "    }\n",
    "})\n",
    "\n",
    "# NOTE: if we have arguments to argparse, we can do:\n",
    "# parser = argparse.ArgumentParser(description=\"Train a Random Forest\")\n",
    "# parser.add_argument(\"--batch_size\", type=int, ...)\n",
    "# parser.add_argument(\"--weight_decay\", type=float, ...)\n",
    "# args = parser.parse_arguments()\n",
    "# run.config.update(args)"
   ]
  },
  {
   "cell_type": "code",
   "execution_count": 4,
   "id": "regular-component",
   "metadata": {},
   "outputs": [],
   "source": [
    "# Log a final score\n",
    "run.summary['accuracy'] = 0.9"
   ]
  },
  {
   "cell_type": "code",
   "execution_count": 5,
   "id": "republican-message",
   "metadata": {},
   "outputs": [],
   "source": [
    "# Log a time-varying metric\n",
    "# The last value will also be reported in the table, unless\n",
    "# we override it with run.summary['loss']\n",
    "for i in range(10):\n",
    "    run.log(\n",
    "        {\n",
    "            \"loss\": 1.2 - i * 0.1\n",
    "        }\n",
    "    )"
   ]
  },
  {
   "cell_type": "code",
   "execution_count": 6,
   "id": "falling-poison",
   "metadata": {},
   "outputs": [],
   "source": [
    "# Log multiple time-varying metrics\n",
    "for i in range(10):\n",
    "    run.log(\n",
    "        {\n",
    "            \"recall\": 0.8 + i * 0.01,\n",
    "            \"ROC\": 0.1 + i**2 * 0.01\n",
    "        }\n",
    "    )"
   ]
  },
  {
   "cell_type": "code",
   "execution_count": 7,
   "id": "given-gibraltar",
   "metadata": {},
   "outputs": [],
   "source": [
    "# Explicit x-axis\n",
    "for i in range(10):\n",
    "    run.log(\n",
    "        {\n",
    "            \"precision\": 0.8 + i * 0.01,\n",
    "            \"epoch\": i\n",
    "        }\n",
    "    )"
   ]
  },
  {
   "cell_type": "code",
   "execution_count": 8,
   "id": "popular-apache",
   "metadata": {},
   "outputs": [
    {
     "name": "stderr",
     "output_type": "stream",
     "text": [
      "<ipython-input-8-c91ea0469688>:8: RuntimeWarning: invalid value encountered in sqrt\n",
      "  eq1 = ((x/7)**2*sqrt(abs(abs(x)-3)/(abs(x)-3))+(y/3)**2*sqrt(abs(y+3/7*sqrt(33))/(y+3/7*sqrt(33)))-1)\n",
      "<ipython-input-8-c91ea0469688>:9: RuntimeWarning: invalid value encountered in sqrt\n",
      "  eq2 = (abs(x/2)-((3*sqrt(33)-7)/112)*x**2-3+sqrt(1-(abs(abs(x)-2)-1)**2)-y)\n",
      "<ipython-input-8-c91ea0469688>:10: RuntimeWarning: invalid value encountered in sqrt\n",
      "  eq3 = (9*sqrt(abs((abs(x)-1)*(abs(x)-.75))/((1-abs(x))*(abs(x)-.75)))-8*abs(x)-y)\n",
      "<ipython-input-8-c91ea0469688>:11: RuntimeWarning: invalid value encountered in sqrt\n",
      "  eq4 = (3*abs(x)+.75*sqrt(abs((abs(x)-.75)*(abs(x)-.5))/((.75-abs(x))*(abs(x)-.5)))-y)\n",
      "<ipython-input-8-c91ea0469688>:12: RuntimeWarning: invalid value encountered in sqrt\n",
      "  eq5 = (2.25*sqrt(abs((x-.5)*(x+.5))/((.5-x)*(.5+x)))-y)\n",
      "<ipython-input-8-c91ea0469688>:13: RuntimeWarning: invalid value encountered in sqrt\n",
      "  eq6 = (6*sqrt(10)/7+(1.5-.5*abs(x))*sqrt(abs(abs(x)-1)/(abs(x)-1))-(6*sqrt(10)/14)*sqrt(4-(abs(x)-1)**2)-y)\n"
     ]
    },
    {
     "data": {
      "image/png": "[encoded data removed]",
      "text/plain": [
       "<Figure size 432x288 with 1 Axes>"
      ]
     },
     "metadata": {
      "needs_background": "light"
     },
     "output_type": "display_data"
    }
   ],
   "source": [
    "from numpy import sqrt \n",
    "\n",
    "# Credits: Trae Blain (https://gist.github.com/traeblain/1487795)\n",
    "x1 = np.arange(-7.25, 7.25, 0.012)\n",
    "y1 = np.arange(-5, 5, 0.012)\n",
    "x, y = np.meshgrid(x1, y1)\n",
    "\n",
    "eq1 = ((x/7)**2*sqrt(abs(abs(x)-3)/(abs(x)-3))+(y/3)**2*sqrt(abs(y+3/7*sqrt(33))/(y+3/7*sqrt(33)))-1)\n",
    "eq2 = (abs(x/2)-((3*sqrt(33)-7)/112)*x**2-3+sqrt(1-(abs(abs(x)-2)-1)**2)-y)\n",
    "eq3 = (9*sqrt(abs((abs(x)-1)*(abs(x)-.75))/((1-abs(x))*(abs(x)-.75)))-8*abs(x)-y)\n",
    "eq4 = (3*abs(x)+.75*sqrt(abs((abs(x)-.75)*(abs(x)-.5))/((.75-abs(x))*(abs(x)-.5)))-y)\n",
    "eq5 = (2.25*sqrt(abs((x-.5)*(x+.5))/((.5-x)*(.5+x)))-y)\n",
    "eq6 = (6*sqrt(10)/7+(1.5-.5*abs(x))*sqrt(abs(abs(x)-1)/(abs(x)-1))-(6*sqrt(10)/14)*sqrt(4-(abs(x)-1)**2)-y)\n",
    "equation=[eq1,eq2,eq3,eq4,eq5,eq6]\n",
    "\n",
    "fig, sub = plt.subplots()\n",
    "for f in equation:\n",
    "    sub.contour(x, y, f, [0])"
   ]
  },
  {
   "cell_type": "code",
   "execution_count": 9,
   "id": "atmospheric-bookmark",
   "metadata": {},
   "outputs": [],
   "source": [
    "run.log({\n",
    "    \"batman\": wandb.Image(fig)\n",
    "})"
   ]
  },
  {
   "cell_type": "code",
   "execution_count": 10,
   "id": "fleet-result",
   "metadata": {},
   "outputs": [
    {
     "data": {
      "text/html": [
       "<br/>Waiting for W&B process to finish, PID 53980... <strong style=\"color:green\">(success).</strong>"
      ],
      "text/plain": [
       "<IPython.core.display.HTML object>"
      ]
     },
     "metadata": {},
     "output_type": "display_data"
    },
    {
     "data": {
      "application/vnd.jupyter.widget-view+json": {
       "model_id": "eecd0481585043ab97aa94568a1dc16c",
       "version_major": 2,
       "version_minor": 0
      },
      "text/plain": [
       "VBox(children=(Label(value=' 0.00MB of 0.02MB uploaded (0.00MB deduped)\\r'), FloatProgress(value=0.0, max=1.0)…"
      ]
     },
     "metadata": {},
     "output_type": "display_data"
    },
    {
     "data": {
      "text/html": [
       "<style>\n",
       "    table.wandb td:nth-child(1) { padding: 0 10px; text-align: right }\n",
       "    .wandb-row { display: flex; flex-direction: row; flex-wrap: wrap; width: 100% }\n",
       "    .wandb-col { display: flex; flex-direction: column; flex-basis: 100%; flex: 1; padding: 10px; }\n",
       "    </style>\n",
       "<div class=\"wandb-row\"><div class=\"wandb-col\">\n",
       "<h3>Run history:</h3><br/><table class=\"wandb\"><tr><td>ROC</td><td>▁▁▁▂▂▃▄▅▇█</td></tr><tr><td>epoch</td><td>▁▂▃▃▄▅▆▆▇█</td></tr><tr><td>loss</td><td>█▇▆▆▅▄▃▃▂▁</td></tr><tr><td>precision</td><td>▁▂▃▃▄▅▆▆▇█</td></tr><tr><td>recall</td><td>▁▂▃▃▄▅▆▆▇█</td></tr></table><br/></div><div class=\"wandb-col\">\n",
       "<h3>Run summary:</h3><br/><table class=\"wandb\"><tr><td>ROC</td><td>0.91</td></tr><tr><td>accuracy</td><td>0.9</td></tr><tr><td>epoch</td><td>9</td></tr><tr><td>loss</td><td>0.3</td></tr><tr><td>precision</td><td>0.89</td></tr><tr><td>recall</td><td>0.89</td></tr></table>\n",
       "</div></div>\n",
       "Synced 6 W&B file(s), 1 media file(s), 0 artifact file(s) and 0 other file(s)\n",
       "<br/>Synced <strong style=\"color:#cdcd00\">deft-dawn-2</strong>: <a href=\"https://wandb.ai/wasuratfirst/tracking_demo/runs/3e3ockze\" target=\"_blank\">https://wandb.ai/wasuratfirst/tracking_demo/runs/3e3ockze</a><br/>\n",
       "Find logs at: <code>./wandb/run-20220212_122955-3e3ockze/logs</code><br/>\n"
      ],
      "text/plain": [
       "<IPython.core.display.HTML object>"
      ]
     },
     "metadata": {},
     "output_type": "display_data"
    }
   ],
   "source": [
    "run.finish()"
   ]
  },
  {
   "cell_type": "code",
   "execution_count": null,
   "id": "united-survival",
   "metadata": {},
   "outputs": [],
   "source": []
  }
 ],
 "metadata": {
  "kernelspec": {
   "display_name": "Python 3",
   "language": "python",
   "name": "python3"
  },
  "language_info": {
   "codemirror_mode": {
    "name": "ipython",
    "version": 3
   },
   "file_extension": ".py",
   "mimetype": "text/x-python",
   "name": "python",
   "nbconvert_exporter": "python",
   "pygments_lexer": "ipython3",
   "version": "3.8.5"
  },
  "widgets": {
   "application/vnd.jupyter.widget-state+json": {
    "state": {
     "03f4f83cd0714776a533f1284144f2ef": {
      "model_module": "@jupyter-widgets/controls",
      "model_module_version": "1.5.0",
      "model_name": "FloatProgressModel",
      "state": {
       "layout": "IPY_MODEL_6b21343a61074744b166095487e9820d",
       "max": 1,
       "style": "IPY_MODEL_81890ec6bd484f88b9b141265164024f"
      }
     },
     "529cad614f1e40bb9989142a63351254": {
      "model_module": "@jupyter-widgets/controls",
      "model_module_version": "1.5.0",
      "model_name": "VBoxModel",
      "state": {
       "children": [
        "IPY_MODEL_92c1ce4046334db7aea4430a4bd496b7",
        "IPY_MODEL_03f4f83cd0714776a533f1284144f2ef"
       ],
       "layout": "IPY_MODEL_f5384aaf90114b5ebaa2fab89accb817"
      }
     },
     "6b21343a61074744b166095487e9820d": {
      "model_module": "@jupyter-widgets/base",
      "model_module_version": "1.2.0",
      "model_name": "LayoutModel",
      "state": {}
     },
     "81890ec6bd484f88b9b141265164024f": {
      "model_module": "@jupyter-widgets/controls",
      "model_module_version": "1.5.0",
      "model_name": "ProgressStyleModel",
      "state": {
       "description_width": ""
      }
     },
     "92c1ce4046334db7aea4430a4bd496b7": {
      "model_module": "@jupyter-widgets/controls",
      "model_module_version": "1.5.0",
      "model_name": "LabelModel",
      "state": {
       "layout": "IPY_MODEL_e97fa6a23a4f4055a25fc2de01bace3f",
       "style": "IPY_MODEL_fd2cc1d20719421a83df067306d5ce84"
      }
     },
     "e97fa6a23a4f4055a25fc2de01bace3f": {
      "model_module": "@jupyter-widgets/base",
      "model_module_version": "1.2.0",
      "model_name": "LayoutModel",
      "state": {}
     },
     "f5384aaf90114b5ebaa2fab89accb817": {
      "model_module": "@jupyter-widgets/base",
      "model_module_version": "1.2.0",
      "model_name": "LayoutModel",
      "state": {}
     },
     "fd2cc1d20719421a83df067306d5ce84": {
      "model_module": "@jupyter-widgets/controls",
      "model_module_version": "1.5.0",
      "model_name": "DescriptionStyleModel",
      "state": {
       "description_width": ""
      }
     }
    },
    "version_major": 2,
    "version_minor": 0
   }
  }
 },
 "nbformat": 4,
 "nbformat_minor": 5
}
